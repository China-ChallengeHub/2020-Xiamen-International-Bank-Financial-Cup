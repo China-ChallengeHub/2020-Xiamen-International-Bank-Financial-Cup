{
 "cells": [
  {
   "cell_type": "code",
   "execution_count": null,
   "metadata": {
    "ExecuteTime": {
     "end_time": "2020-11-22T05:00:53.821769Z",
     "start_time": "2020-11-22T05:00:53.337034Z"
    }
   },
   "outputs": [],
   "source": [
    "import pandas as pd\n",
    "import numpy as np\n",
    "import warnings\n",
    "from tqdm import tqdm\n",
    "from sklearn.model_selection import StratifiedKFold\n",
    "import lightgbm as lgb\n",
    "from sklearn.preprocessing import LabelEncoder\n",
    "import os\n",
    "from itertools import combinations\n",
    "from sklearn.metrics import cohen_kappa_score, f1_score\n",
    "\n",
    "\n",
    "warnings.simplefilter('ignore')\n",
    "tqdm.pandas()\n",
    "\n",
    "pd.set_option('max_columns', None)\n",
    "pd.set_option('max_rows', None)\n",
    "pd.set_option('max_colwidth', 200)"
   ]
  },
  {
   "cell_type": "code",
   "execution_count": null,
   "metadata": {
    "ExecuteTime": {
     "end_time": "2020-11-22T05:00:53.825609Z",
     "start_time": "2020-11-22T05:00:53.823268Z"
    }
   },
   "outputs": [],
   "source": [
    "seed = 2020"
   ]
  },
  {
   "cell_type": "code",
   "execution_count": null,
   "metadata": {
    "ExecuteTime": {
     "end_time": "2020-11-22T05:00:53.880706Z",
     "start_time": "2020-11-22T05:00:53.828241Z"
    }
   },
   "outputs": [],
   "source": [
    "df_feature = pd.read_pickle('data/user.pkl')\n",
    "\n",
    "df_feature['label'] = df_feature['label'] + 1\n",
    "df_feature.head()"
   ]
  },
  {
   "cell_type": "code",
   "execution_count": null,
   "metadata": {
    "ExecuteTime": {
     "end_time": "2020-11-22T05:00:53.897724Z",
     "start_time": "2020-11-22T05:00:53.883146Z"
    }
   },
   "outputs": [],
   "source": [
    "df_feature['label'].value_counts()"
   ]
  },
  {
   "cell_type": "code",
   "execution_count": null,
   "metadata": {
    "ExecuteTime": {
     "end_time": "2020-11-22T05:00:53.935502Z",
     "start_time": "2020-11-22T05:00:53.899673Z"
    }
   },
   "outputs": [],
   "source": [
    "# 1.0    92818\n",
    "# 0.0    30237\n",
    "# 2.0    22241"
   ]
  },
  {
   "cell_type": "code",
   "execution_count": null,
   "metadata": {
    "ExecuteTime": {
     "end_time": "2020-11-22T05:00:53.995955Z",
     "start_time": "2020-11-22T05:00:53.937884Z"
    }
   },
   "outputs": [],
   "source": [
    "all_users = list(set(df_feature['cust_no'].values))"
   ]
  },
  {
   "cell_type": "code",
   "execution_count": null,
   "metadata": {
    "ExecuteTime": {
     "end_time": "2020-11-22T05:00:54.039638Z",
     "start_time": "2020-11-22T05:00:53.999836Z"
    }
   },
   "outputs": [],
   "source": [
    "len(all_users)"
   ]
  },
  {
   "cell_type": "markdown",
   "metadata": {},
   "source": [
    "# 特征工程"
   ]
  },
  {
   "cell_type": "code",
   "execution_count": null,
   "metadata": {
    "ExecuteTime": {
     "end_time": "2020-11-22T05:00:55.257811Z",
     "start_time": "2020-11-22T05:00:54.042545Z"
    }
   },
   "outputs": [],
   "source": [
    "df_feature['fq'] = df_feature['q']\n",
    "df_feature.loc[df_feature['fq'] == 1, 'fq'] = 5"
   ]
  },
  {
   "cell_type": "markdown",
   "metadata": {},
   "source": [
    "## 行为信息"
   ]
  },
  {
   "cell_type": "code",
   "execution_count": null,
   "metadata": {
    "ExecuteTime": {
     "end_time": "2020-11-22T05:00:59.794540Z",
     "start_time": "2020-11-22T05:00:55.260555Z"
    }
   },
   "outputs": [],
   "source": [
    "df_behavior = pd.read_pickle('data/behavior.pkl')\n",
    "print(df_behavior.shape)\n",
    "df_behavior = df_behavior[df_behavior['cust_no'].isin(all_users)]\n",
    "print(df_behavior.shape)\n",
    "df_behavior.sort_values(['cust_no', 'q', 'm'], inplace=True)\n",
    "df_behavior.head()"
   ]
  },
  {
   "cell_type": "code",
   "execution_count": null,
   "metadata": {
    "ExecuteTime": {
     "end_time": "2020-11-22T05:01:03.509174Z",
     "start_time": "2020-11-22T05:00:59.795730Z"
    }
   },
   "outputs": [],
   "source": [
    "# 单独提取B6\n",
    "df_temp = df_behavior[['cust_no', 'q', 'B6']]\n",
    "df_temp = df_temp.dropna()\n",
    "df_temp.head()\n",
    "\n",
    "# 只保留三季度大于2019.7.1的数据\n",
    "# 只保留四季度大于2019.10.1的数据\n",
    "df_temp1 = df_temp[(df_temp['q'] == 3) & (\n",
    "    df_temp['B6'] >= '2019-07-01 00:00:00')]\n",
    "df_temp2 = df_temp[(df_temp['q'] == 4) & (\n",
    "    df_temp['B6'] >= '2019-10-01 00:00:00')]\n",
    "df_temp3 = df_temp[(df_temp['q'] == 1)]\n",
    "\n",
    "df_temp = pd.concat([df_temp1, df_temp2, df_temp3])\n",
    "df_temp = df_temp.reset_index(drop=True)\n",
    "\n",
    "df_temp['last'] = 0\n",
    "df_temp.loc[df_temp['q'] == 1, 'last'] = '2020-04-01 00:00:00'\n",
    "df_temp.loc[df_temp['q'] == 3, 'last'] = '2019-10-01 00:00:00'\n",
    "df_temp.loc[df_temp['q'] == 4, 'last'] = '2020-01-01 00:00:00'\n",
    "\n",
    "df_temp['B6_gap'] = (pd.to_datetime(df_temp['last']) -\n",
    "                     pd.to_datetime(df_temp['B6'])).dt.total_seconds()\n",
    "\n",
    "del df_temp['B6'], df_temp['last']\n",
    "df_feature = df_feature.merge(df_temp, how='left')"
   ]
  },
  {
   "cell_type": "code",
   "execution_count": null,
   "metadata": {
    "ExecuteTime": {
     "end_time": "2020-11-22T05:01:03.794750Z",
     "start_time": "2020-11-22T05:01:03.511503Z"
    }
   },
   "outputs": [],
   "source": [
    "# 单独提取B7\n",
    "df_temp = df_behavior[['cust_no', 'q', 'B7']]\n",
    "df_temp = df_temp.dropna()\n",
    "df_feature = df_feature.merge(df_temp, how='left')"
   ]
  },
  {
   "cell_type": "code",
   "execution_count": null,
   "metadata": {
    "ExecuteTime": {
     "end_time": "2020-11-22T05:01:03.810234Z",
     "start_time": "2020-11-22T05:01:03.796077Z"
    }
   },
   "outputs": [],
   "source": [
    "df_behavior['B5_B3_minus'] = df_behavior['B5'] - df_behavior['B3']\n",
    "df_behavior['B5_B3_ratio'] = df_behavior['B5'] / (df_behavior['B3'] + 1e-3)\n",
    "df_behavior['B3_B2_ratio'] = df_behavior['B3'] / df_behavior['B2']\n",
    "df_behavior['B5_B4_ratio'] = df_behavior['B5'] / df_behavior['B4']"
   ]
  },
  {
   "cell_type": "code",
   "execution_count": null,
   "metadata": {
    "ExecuteTime": {
     "end_time": "2020-11-22T05:01:13.925161Z",
     "start_time": "2020-11-22T05:01:03.811690Z"
    },
    "scrolled": true
   },
   "outputs": [],
   "source": [
    "for f in tqdm(['B1', 'B2', 'B3', 'B4', 'B5', 'B5_B3_minus', 'B3_B2_ratio', 'B5_B4_ratio', 'B5_B3_ratio']):\n",
    "    df_temp = df_behavior.groupby(['cust_no', 'q'])[f].agg({\n",
    "        'q_{}_mean'.format(f): 'mean',\n",
    "        'q_{}_std'.format(f): 'std',\n",
    "        'q_{}_max'.format(f): 'max',\n",
    "        'q_{}_min'.format(f): 'min',\n",
    "        'q_{}_diff'.format(f): lambda x: x.values[-1] - x.values[0],\n",
    "        'q_{}_last'.format(f): 'last',\n",
    "    }).reset_index()\n",
    "    df_feature = df_feature.merge(df_temp, how='left')\n",
    "df_feature.head()"
   ]
  },
  {
   "cell_type": "markdown",
   "metadata": {
    "ExecuteTime": {
     "end_time": "2020-10-27T08:25:55.349698Z",
     "start_time": "2020-10-27T08:25:55.345368Z"
    }
   },
   "source": [
    "## 资产信息"
   ]
  },
  {
   "cell_type": "code",
   "execution_count": null,
   "metadata": {
    "ExecuteTime": {
     "end_time": "2020-11-22T05:01:18.501742Z",
     "start_time": "2020-11-22T05:01:13.927812Z"
    }
   },
   "outputs": [],
   "source": [
    "df_aum = pd.read_pickle('data/aum.pkl')\n",
    "print(df_aum.shape)\n",
    "df_aum = df_aum[df_aum['cust_no'].isin(all_users)]\n",
    "print(df_aum.shape)\n",
    "df_aum.sort_values(['cust_no', 'q', 'm'], inplace=True)\n",
    "df_aum.head()"
   ]
  },
  {
   "cell_type": "code",
   "execution_count": null,
   "metadata": {
    "ExecuteTime": {
     "end_time": "2020-11-22T05:01:18.613406Z",
     "start_time": "2020-11-22T05:01:18.502900Z"
    }
   },
   "outputs": [],
   "source": [
    "X_cols = [f for f in df_aum.columns if f.startswith('X')]\n",
    "\n",
    "df_aum['X_sum'] = df_aum[X_cols].sum(axis=1)\n",
    "df_aum['X_num'] = (df_aum[X_cols] > 0).sum(axis=1)"
   ]
  },
  {
   "cell_type": "code",
   "execution_count": null,
   "metadata": {
    "ExecuteTime": {
     "end_time": "2020-11-22T05:01:30.208134Z",
     "start_time": "2020-11-22T05:01:18.615796Z"
    },
    "scrolled": true
   },
   "outputs": [],
   "source": [
    "for f in tqdm(X_cols + ['X_sum', 'X_num']):\n",
    "    df_temp = df_aum.groupby(['cust_no', 'q'])[f].agg({\n",
    "        'q_{}_mean'.format(f): 'mean',\n",
    "        'q_{}_std'.format(f): 'std',\n",
    "        'q_{}_max'.format(f): 'max',\n",
    "        'q_{}_min'.format(f): 'min',\n",
    "        'q_{}_median'.format(f): 'median',\n",
    "        'q_{}_diff'.format(f): lambda x: x.values[-1] - x.values[0],\n",
    "        'q_{}_last'.format(f): 'last',\n",
    "    }).reset_index()\n",
    "    df_feature = df_feature.merge(df_temp, how='left')\n",
    "df_feature.head()"
   ]
  },
  {
   "cell_type": "markdown",
   "metadata": {
    "ExecuteTime": {
     "end_time": "2020-10-27T07:06:08.790099Z",
     "start_time": "2020-10-27T07:06:08.786125Z"
    }
   },
   "source": [
    "## 存款信息"
   ]
  },
  {
   "cell_type": "code",
   "execution_count": null,
   "metadata": {
    "ExecuteTime": {
     "end_time": "2020-11-22T05:01:31.758219Z",
     "start_time": "2020-11-22T05:01:30.210481Z"
    }
   },
   "outputs": [],
   "source": [
    "df_cunkuan = pd.read_pickle('data/cunkuan.pkl')\n",
    "print(df_cunkuan.shape)\n",
    "df_cunkuan = df_cunkuan[df_cunkuan['cust_no'].isin(all_users)]\n",
    "print(df_cunkuan.shape)\n",
    "df_cunkuan.sort_values(['cust_no', 'q', 'm'], inplace=True)\n",
    "df_cunkuan.head()"
   ]
  },
  {
   "cell_type": "code",
   "execution_count": null,
   "metadata": {
    "ExecuteTime": {
     "end_time": "2020-11-22T05:02:00.515582Z",
     "start_time": "2020-11-22T05:01:31.760229Z"
    }
   },
   "outputs": [],
   "source": [
    "df_cunkuan['C3'] = df_cunkuan['C1'] / df_cunkuan['C2']\n",
    "df_cunkuan['C1_m_diff'] = df_cunkuan.groupby(['cust_no', 'q'])['C1'].diff()"
   ]
  },
  {
   "cell_type": "code",
   "execution_count": null,
   "metadata": {
    "ExecuteTime": {
     "end_time": "2020-11-22T05:02:05.129724Z",
     "start_time": "2020-11-22T05:02:00.517930Z"
    },
    "scrolled": true
   },
   "outputs": [],
   "source": [
    "for f in ['C1', 'C2', 'C3', 'C1_m_diff']:\n",
    "    df_temp = df_cunkuan.groupby(['cust_no', 'q'])[f].agg({\n",
    "        'q_{}_mean'.format(f): 'mean',\n",
    "        'q_{}_std'.format(f): 'std',\n",
    "        'q_{}_max'.format(f): 'max',\n",
    "        'q_{}_min'.format(f): 'min',\n",
    "        'q_{}_median'.format(f): 'median',\n",
    "        'q_{}_diff'.format(f): lambda x: x.values[-1] - x.values[0],\n",
    "        'q_{}_last'.format(f): 'last',\n",
    "    }).reset_index()\n",
    "    df_feature = df_feature.merge(df_temp, how='left')\n",
    "df_feature.head()"
   ]
  },
  {
   "cell_type": "markdown",
   "metadata": {},
   "source": [
    "## 历史事件数据"
   ]
  },
  {
   "cell_type": "code",
   "execution_count": null,
   "metadata": {
    "ExecuteTime": {
     "end_time": "2020-11-22T05:02:07.724675Z",
     "start_time": "2020-11-22T05:02:05.130824Z"
    }
   },
   "outputs": [],
   "source": [
    "df_event = pd.read_pickle('data/event.pkl')\n",
    "print(df_event.shape)\n",
    "df_event = df_event[df_event['cust_no'].isin(all_users)]\n",
    "print(df_event.shape)\n",
    "df_event.head()"
   ]
  },
  {
   "cell_type": "code",
   "execution_count": null,
   "metadata": {
    "ExecuteTime": {
     "end_time": "2020-11-22T05:02:19.267121Z",
     "start_time": "2020-11-22T05:02:07.725828Z"
    }
   },
   "outputs": [],
   "source": [
    "datetime_feats = ['E{}'.format(i) for i in range(1, 15)] + ['E16', 'E18']\n",
    "\n",
    "for f1, f2 in tqdm(list(combinations(datetime_feats, 2))):\n",
    "    df_event['{}_{}_days_diff'.format(f1, f2)] = (pd.to_datetime(\n",
    "        df_event[f1]) - pd.to_datetime(df_event[f2])).dt.days"
   ]
  },
  {
   "cell_type": "code",
   "execution_count": null,
   "metadata": {
    "ExecuteTime": {
     "end_time": "2020-11-22T05:02:19.278548Z",
     "start_time": "2020-11-22T05:02:19.272183Z"
    }
   },
   "outputs": [],
   "source": [
    "df_event['E17_E15_minus'] = df_event['E17'] - df_event['E15']"
   ]
  },
  {
   "cell_type": "code",
   "execution_count": null,
   "metadata": {
    "ExecuteTime": {
     "end_time": "2020-11-22T05:02:21.129407Z",
     "start_time": "2020-11-22T05:02:19.281096Z"
    }
   },
   "outputs": [],
   "source": [
    "df_feature = df_feature.merge(df_event, how='left')\n",
    "df_feature.head()"
   ]
  },
  {
   "cell_type": "markdown",
   "metadata": {},
   "source": [
    "## 基本信息"
   ]
  },
  {
   "cell_type": "code",
   "execution_count": null,
   "metadata": {
    "ExecuteTime": {
     "end_time": "2020-11-22T05:02:23.384599Z",
     "start_time": "2020-11-22T05:02:21.131545Z"
    }
   },
   "outputs": [],
   "source": [
    "df_cust_info = pd.read_pickle('data/cust_info.pkl')\n",
    "print(df_cust_info.shape)\n",
    "df_cust_info = df_cust_info[df_cust_info['cust_no'].isin(all_users)]\n",
    "print(df_cust_info.shape)\n",
    "df_cust_info.head()"
   ]
  },
  {
   "cell_type": "code",
   "execution_count": null,
   "metadata": {
    "ExecuteTime": {
     "end_time": "2020-11-22T05:02:24.193594Z",
     "start_time": "2020-11-22T05:02:23.385775Z"
    },
    "scrolled": true
   },
   "outputs": [],
   "source": [
    "df_feature = df_feature.merge(df_cust_info, how='left')\n",
    "df_feature.head()"
   ]
  },
  {
   "cell_type": "code",
   "execution_count": null,
   "metadata": {
    "ExecuteTime": {
     "end_time": "2020-11-22T05:02:25.825726Z",
     "start_time": "2020-11-22T05:02:24.194715Z"
    },
    "scrolled": true
   },
   "outputs": [],
   "source": [
    "cate_features = ['I1', 'I3', 'I4', 'I5',\n",
    "                 'I6', 'I8', 'I10', 'I13', 'I14']\n",
    "\n",
    "for f in tqdm(cate_features):\n",
    "    df_feature['{}_cnt'.format(f)] = df_feature.groupby([f])[\n",
    "        'cust_no'].transform('count')"
   ]
  },
  {
   "cell_type": "markdown",
   "metadata": {},
   "source": [
    "# 其他特征"
   ]
  },
  {
   "cell_type": "code",
   "execution_count": null,
   "metadata": {
    "ExecuteTime": {
     "end_time": "2020-11-22T05:02:26.726440Z",
     "start_time": "2020-11-22T05:02:25.827897Z"
    }
   },
   "outputs": [],
   "source": [
    "df_feature.sort_values(['cust_no', 'fq'], inplace=True)"
   ]
  },
  {
   "cell_type": "code",
   "execution_count": null,
   "metadata": {
    "ExecuteTime": {
     "end_time": "2020-11-22T05:02:26.739107Z",
     "start_time": "2020-11-22T05:02:26.728415Z"
    }
   },
   "outputs": [],
   "source": [
    "for f in ['q_{}_last'.format(f) for f in ['X1', 'X2', 'X3', 'X4', 'X5', 'X6', 'X7', 'X8']]:\n",
    "    df_feature['{}_ratio'.format(f)] = df_feature[f] / \\\n",
    "        df_feature['q_X_sum_last']"
   ]
  },
  {
   "cell_type": "code",
   "execution_count": null,
   "metadata": {
    "ExecuteTime": {
     "end_time": "2020-11-22T05:04:59.445628Z",
     "start_time": "2020-11-22T05:02:26.740529Z"
    },
    "scrolled": true
   },
   "outputs": [],
   "source": [
    "cols = ['q_{}_last'.format(f) for f in ['X1', 'X2', 'X3', 'X4', 'X5', 'X6', 'X7', 'X8', 'X_sum',\n",
    "                                        'X_num']] + \\\n",
    "    ['q_{}_last'.format(f) for f in ['B1', 'B2', 'B3', 'B4', 'B5']]\n",
    "\n",
    "for f in tqdm(cols):\n",
    "    df_feature['{}_q_between_diff'.format(f)] = df_feature.groupby([\n",
    "        'cust_no'])[f].diff()"
   ]
  },
  {
   "cell_type": "code",
   "execution_count": null,
   "metadata": {
    "ExecuteTime": {
     "end_time": "2020-11-22T05:05:00.875710Z",
     "start_time": "2020-11-22T05:04:59.446887Z"
    }
   },
   "outputs": [],
   "source": [
    "df_feature.to_pickle('data/feature.pkl')"
   ]
  }
 ],
 "metadata": {
  "kernelspec": {
   "display_name": "Python 3",
   "language": "python",
   "name": "python3"
  },
  "language_info": {
   "codemirror_mode": {
    "name": "ipython",
    "version": 3
   },
   "file_extension": ".py",
   "mimetype": "text/x-python",
   "name": "python",
   "nbconvert_exporter": "python",
   "pygments_lexer": "ipython3",
   "version": "3.7.4"
  }
 },
 "nbformat": 4,
 "nbformat_minor": 4
}
