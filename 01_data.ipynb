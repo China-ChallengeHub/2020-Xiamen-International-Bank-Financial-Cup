{
 "cells": [
  {
   "cell_type": "code",
   "execution_count": null,
   "metadata": {
    "ExecuteTime": {
     "end_time": "2020-11-10T04:43:10.696742Z",
     "start_time": "2020-11-10T04:43:10.428217Z"
    }
   },
   "outputs": [],
   "source": [
    "import pandas as pd\n",
    "import numpy as np\n",
    "import warnings\n",
    "from tqdm import tqdm\n",
    "import os\n",
    "warnings.simplefilter('ignore')\n",
    "tqdm.pandas()\n",
    "\n",
    "pd.set_option('max_columns', None)\n",
    "pd.set_option('max_rows', None)\n",
    "pd.set_option('max_colwidth', 200)"
   ]
  },
  {
   "cell_type": "markdown",
   "metadata": {},
   "source": [
    "# 存款信息"
   ]
  },
  {
   "cell_type": "code",
   "execution_count": null,
   "metadata": {
    "ExecuteTime": {
     "end_time": "2020-11-10T04:43:11.741886Z",
     "start_time": "2020-11-10T04:43:10.698348Z"
    }
   },
   "outputs": [],
   "source": [
    "df_cunkuan = pd.DataFrame()\n",
    "for f in os.listdir('raw_data/x_train/cunkuan_train'):\n",
    "    mon = int((f.split('.')[0]).split('_')[-1].replace('m', ''))\n",
    "    m = (mon-1) % 3+1\n",
    "    q = (mon-1)//3+1\n",
    "\n",
    "    tmp = pd.read_csv('raw_data/x_train/cunkuan_train/'+f)\n",
    "    tmp['m'] = m\n",
    "    tmp['q'] = q\n",
    "\n",
    "    df_cunkuan = df_cunkuan.append(tmp)\n",
    "\n",
    "for f in os.listdir('raw_data/x_test/cunkuan_test'):\n",
    "    mon = int((f.split('.')[0]).split('_')[-1].replace('m', ''))\n",
    "    m = (mon-1) % 3+1\n",
    "    q = (mon-1)//3+1\n",
    "\n",
    "    tmp = pd.read_csv('raw_data/x_test/cunkuan_test/'+f)\n",
    "    tmp['m'] = m\n",
    "    tmp['q'] = q\n",
    "\n",
    "    df_cunkuan = df_cunkuan.append(tmp)\n",
    "\n",
    "df_cunkuan.reset_index(drop=True)\n",
    "df_cunkuan.head()"
   ]
  },
  {
   "cell_type": "code",
   "execution_count": null,
   "metadata": {
    "ExecuteTime": {
     "end_time": "2020-11-10T04:43:12.883551Z",
     "start_time": "2020-11-10T04:43:11.743441Z"
    }
   },
   "outputs": [],
   "source": [
    "os.makedirs('data', exist_ok=True)\n",
    "df_cunkuan.to_pickle('data/cunkuan.pkl')"
   ]
  },
  {
   "cell_type": "markdown",
   "metadata": {},
   "source": [
    "# 有效用户"
   ]
  },
  {
   "cell_type": "code",
   "execution_count": null,
   "metadata": {
    "ExecuteTime": {
     "end_time": "2020-11-10T04:43:13.067165Z",
     "start_time": "2020-11-10T04:43:12.886558Z"
    }
   },
   "outputs": [],
   "source": [
    "df_user_Q1 = pd.read_csv('raw_data/x_test/cust_avli_Q1.csv')\n",
    "df_user_Q3 = pd.read_csv('raw_data/x_train/cust_avli_Q3.csv')\n",
    "df_user_Q4 = pd.read_csv('raw_data/x_train/cust_avli_Q4.csv')\n",
    "\n",
    "df_user_label_Q3 = pd.read_csv('raw_data/y_train_3/y_Q3_3.csv')\n",
    "df_user_label_Q4 = pd.read_csv('raw_data/y_train_3/y_Q4_3.csv')\n",
    "\n",
    "df_user_Q3 = df_user_Q3.merge(df_user_label_Q3, how='left')\n",
    "df_user_Q4 = df_user_Q4.merge(df_user_label_Q4, how='left')\n",
    "\n",
    "df_user_Q1['q'] = 1\n",
    "df_user_Q3['q'] = 3\n",
    "df_user_Q4['q'] = 4\n",
    "\n",
    "df_user = pd.concat([df_user_Q1, df_user_Q3, df_user_Q4]\n",
    "                    ).reset_index(drop=True)\n",
    "df_user.head()"
   ]
  },
  {
   "cell_type": "code",
   "execution_count": null,
   "metadata": {
    "ExecuteTime": {
     "end_time": "2020-11-10T04:43:13.117941Z",
     "start_time": "2020-11-10T04:43:13.069296Z"
    }
   },
   "outputs": [],
   "source": [
    "os.makedirs('data', exist_ok=True)\n",
    "df_user.to_pickle('data/user.pkl')"
   ]
  },
  {
   "cell_type": "markdown",
   "metadata": {},
   "source": [
    "# 额外用户"
   ]
  },
  {
   "cell_type": "code",
   "execution_count": null,
   "metadata": {
    "ExecuteTime": {
     "end_time": "2020-11-10T04:43:14.026835Z",
     "start_time": "2020-11-10T04:43:13.119378Z"
    }
   },
   "outputs": [],
   "source": [
    "# Q1 使用 info 里的全量用户\n",
    "df_user_Q1 = pd.read_csv('raw_data/x_test/cust_info_q1.csv')\n",
    "df_user_Q1 = df_user_Q1[['cust_no']]\n",
    "# Q3 使用 info 里的全量用户\n",
    "df_user_Q3 = pd.read_csv('raw_data/x_train/cust_avli_Q3.csv')\n",
    "# Q4 使用 avli 里的有效用户\n",
    "df_user_Q4 = pd.read_csv('raw_data/x_train/cust_avli_Q4.csv')\n",
    "\n",
    "df_user_label_Q3 = pd.read_csv('raw_data/y_train_3/y_Q3_3.csv')\n",
    "df_user_label_Q4 = pd.read_csv('raw_data/y_train_3/y_Q4_3.csv')\n",
    "\n",
    "df_user_Q3 = df_user_Q3.merge(df_user_label_Q3, how='left')\n",
    "df_user_Q4 = df_user_Q4.merge(df_user_label_Q4, how='left')\n",
    "\n",
    "df_user_Q1['q'] = 1\n",
    "df_user_Q3['q'] = 3\n",
    "df_user_Q4['q'] = 4\n",
    "\n",
    "df_user = pd.concat([df_user_Q1, df_user_Q3, df_user_Q4]\n",
    "                    ).reset_index(drop=True)\n",
    "df_user.head()"
   ]
  },
  {
   "cell_type": "code",
   "execution_count": null,
   "metadata": {
    "ExecuteTime": {
     "end_time": "2020-11-10T04:43:14.289650Z",
     "start_time": "2020-11-10T04:43:14.028475Z"
    }
   },
   "outputs": [],
   "source": [
    "os.makedirs('data', exist_ok=True)\n",
    "df_user.to_pickle('data/user_all.pkl')"
   ]
  },
  {
   "cell_type": "markdown",
   "metadata": {},
   "source": [
    "#  用户基本信息"
   ]
  },
  {
   "cell_type": "code",
   "execution_count": null,
   "metadata": {
    "ExecuteTime": {
     "end_time": "2020-11-10T04:43:17.103019Z",
     "start_time": "2020-11-10T04:43:14.292611Z"
    }
   },
   "outputs": [],
   "source": [
    "df_user_info_Q1 = pd.read_csv('raw_data/x_test/cust_info_q1.csv')\n",
    "df_user_info_Q3 = pd.read_csv('raw_data/x_train/cust_info_q3.csv')\n",
    "df_user_info_Q4 = pd.read_csv('raw_data/x_train/cust_info_q4.csv')\n",
    "\n",
    "df_user_info_Q1['q'] = 1\n",
    "df_user_info_Q3['q'] = 3\n",
    "df_user_info_Q4['q'] = 4\n",
    "\n",
    "df_user_info = pd.concat(\n",
    "    [df_user_info_Q1, df_user_info_Q3, df_user_info_Q4]).reset_index(drop=True)\n",
    "\n",
    "del df_user_info['I7'], df_user_info['I9'], df_user_info['I12']\n",
    "\n",
    "df_user_info.head()"
   ]
  },
  {
   "cell_type": "code",
   "execution_count": null,
   "metadata": {
    "ExecuteTime": {
     "end_time": "2020-11-10T04:43:19.351825Z",
     "start_time": "2020-11-10T04:43:17.105199Z"
    }
   },
   "outputs": [],
   "source": [
    "os.makedirs('data', exist_ok=True)\n",
    "df_user_info.to_pickle('data/cust_info.pkl')"
   ]
  },
  {
   "cell_type": "markdown",
   "metadata": {},
   "source": [
    "# 用户重大历史数据"
   ]
  },
  {
   "cell_type": "code",
   "execution_count": null,
   "metadata": {
    "ExecuteTime": {
     "end_time": "2020-11-10T04:43:22.283493Z",
     "start_time": "2020-11-10T04:43:19.354951Z"
    }
   },
   "outputs": [],
   "source": [
    "df_user_event_Q1 = pd.read_csv(\n",
    "    'raw_data/x_test/big_event_test/big_event_Q1.csv')\n",
    "df_user_event_Q3 = pd.read_csv(\n",
    "    'raw_data/x_train/big_event_train/big_event_Q3.csv')\n",
    "df_user_event_Q4 = pd.read_csv(\n",
    "    'raw_data/x_train/big_event_train/big_event_Q4.csv')\n",
    "\n",
    "df_user_event_Q1['q'] = 1\n",
    "df_user_event_Q3['q'] = 3\n",
    "df_user_event_Q4['q'] = 4\n",
    "\n",
    "df_user_event = pd.concat(\n",
    "    [df_user_event_Q1, df_user_event_Q3, df_user_event_Q4]).reset_index(drop=True)\n",
    "df_user_event.head()"
   ]
  },
  {
   "cell_type": "code",
   "execution_count": null,
   "metadata": {
    "ExecuteTime": {
     "end_time": "2020-11-10T04:43:25.340876Z",
     "start_time": "2020-11-10T04:43:22.286021Z"
    }
   },
   "outputs": [],
   "source": [
    "os.makedirs('data', exist_ok=True)\n",
    "df_user_event.to_pickle('data/event.pkl')"
   ]
  },
  {
   "cell_type": "markdown",
   "metadata": {},
   "source": [
    "# 用户行为数据"
   ]
  },
  {
   "cell_type": "code",
   "execution_count": null,
   "metadata": {
    "ExecuteTime": {
     "end_time": "2020-11-10T04:43:32.102882Z",
     "start_time": "2020-11-10T04:43:25.344033Z"
    }
   },
   "outputs": [],
   "source": [
    "df_behavior = pd.DataFrame()\n",
    "for f in os.listdir('raw_data/x_train/behavior_train'):\n",
    "    mon = int((f.split('.')[0]).split('_')[-1].replace('m', ''))\n",
    "    m = (mon-1) % 3+1\n",
    "    q = (mon-1)//3+1\n",
    "\n",
    "    tmp = pd.read_csv('raw_data/x_train/behavior_train/'+f)\n",
    "    tmp['m'] = m\n",
    "    tmp['q'] = q\n",
    "\n",
    "    df_behavior = df_behavior.append(tmp)\n",
    "\n",
    "for f in os.listdir('raw_data/x_test/behavior_test'):\n",
    "    mon = int((f.split('.')[0]).split('_')[-1].replace('m', ''))\n",
    "    m = (mon-1) % 3+1\n",
    "    q = (mon-1)//3+1\n",
    "\n",
    "    tmp = pd.read_csv('raw_data/x_test/behavior_test/'+f)\n",
    "    tmp['m'] = m\n",
    "    tmp['q'] = q\n",
    "\n",
    "    df_behavior = df_behavior.append(tmp)\n",
    "\n",
    "df_behavior.reset_index(drop=True)\n",
    "df_behavior.head()"
   ]
  },
  {
   "cell_type": "code",
   "execution_count": null,
   "metadata": {
    "ExecuteTime": {
     "end_time": "2020-11-10T04:43:36.516812Z",
     "start_time": "2020-11-10T04:43:32.104074Z"
    }
   },
   "outputs": [],
   "source": [
    "os.makedirs('data', exist_ok=True)\n",
    "df_behavior.to_pickle('data/behavior.pkl')"
   ]
  },
  {
   "cell_type": "markdown",
   "metadata": {},
   "source": [
    "# 用户资产数据"
   ]
  },
  {
   "cell_type": "code",
   "execution_count": null,
   "metadata": {
    "ExecuteTime": {
     "end_time": "2020-11-10T04:43:43.088345Z",
     "start_time": "2020-11-10T04:43:36.520245Z"
    }
   },
   "outputs": [],
   "source": [
    "df_aum = pd.DataFrame()\n",
    "for f in os.listdir('raw_data/x_train/aum_train'):\n",
    "    mon = int((f.split('.')[0]).split('_')[-1].replace('m', ''))\n",
    "    m = (mon-1) % 3+1\n",
    "    q = (mon-1)//3+1\n",
    "\n",
    "    tmp = pd.read_csv('raw_data/x_train/aum_train/'+f)\n",
    "    tmp['m'] = m\n",
    "    tmp['q'] = q\n",
    "\n",
    "    df_aum = df_aum.append(tmp)\n",
    "\n",
    "for f in os.listdir('raw_data/x_test/aum_test'):\n",
    "    mon = int((f.split('.')[0]).split('_')[-1].replace('m', ''))\n",
    "    m = (mon-1) % 3+1\n",
    "    q = (mon-1)//3+1\n",
    "\n",
    "    tmp = pd.read_csv('raw_data/x_test/aum_test/'+f)\n",
    "    tmp['m'] = m\n",
    "    tmp['q'] = q\n",
    "\n",
    "    df_aum = df_aum.append(tmp)\n",
    "\n",
    "df_aum.reset_index(drop=True)\n",
    "df_aum.head()"
   ]
  },
  {
   "cell_type": "code",
   "execution_count": null,
   "metadata": {
    "ExecuteTime": {
     "end_time": "2020-11-10T04:43:47.544384Z",
     "start_time": "2020-11-10T04:43:43.089526Z"
    }
   },
   "outputs": [],
   "source": [
    "os.makedirs('data', exist_ok=True)\n",
    "df_aum.to_pickle('data/aum.pkl')"
   ]
  },
  {
   "cell_type": "code",
   "execution_count": null,
   "metadata": {},
   "outputs": [],
   "source": []
  }
 ],
 "metadata": {
  "kernelspec": {
   "display_name": "Python 3",
   "language": "python",
   "name": "python3"
  },
  "language_info": {
   "codemirror_mode": {
    "name": "ipython",
    "version": 3
   },
   "file_extension": ".py",
   "mimetype": "text/x-python",
   "name": "python",
   "nbconvert_exporter": "python",
   "pygments_lexer": "ipython3",
   "version": "3.7.4"
  }
 },
 "nbformat": 4,
 "nbformat_minor": 4
}
