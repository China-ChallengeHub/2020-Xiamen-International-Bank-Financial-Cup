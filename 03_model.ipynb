{
 "cells": [
  {
   "cell_type": "code",
   "execution_count": 1,
   "metadata": {
    "ExecuteTime": {
     "end_time": "2020-12-08T01:53:01.196251Z",
     "start_time": "2020-12-08T01:53:00.574839Z"
    }
   },
   "outputs": [],
   "source": [
    "import pandas as pd\n",
    "import numpy as np\n",
    "import warnings\n",
    "from tqdm import tqdm\n",
    "from sklearn.model_selection import StratifiedKFold\n",
    "import lightgbm as lgb\n",
    "from sklearn.preprocessing import LabelEncoder\n",
    "import os\n",
    "from itertools import combinations\n",
    "from sklearn.metrics import cohen_kappa_score, f1_score\n",
    "\n",
    "\n",
    "warnings.simplefilter('ignore')\n",
    "tqdm.pandas()\n",
    "\n",
    "pd.set_option('max_columns', None)\n",
    "pd.set_option('max_rows', None)\n",
    "pd.set_option('max_colwidth', 200)"
   ]
  },
  {
   "cell_type": "code",
   "execution_count": 2,
   "metadata": {
    "ExecuteTime": {
     "end_time": "2020-12-08T01:53:01.203142Z",
     "start_time": "2020-12-08T01:53:01.199615Z"
    }
   },
   "outputs": [],
   "source": [
    "seed = 2020"
   ]
  },
  {
   "cell_type": "code",
   "execution_count": 3,
   "metadata": {
    "ExecuteTime": {
     "end_time": "2020-12-08T01:53:05.296518Z",
     "start_time": "2020-12-08T01:53:01.205952Z"
    },
    "scrolled": true
   },
   "outputs": [],
   "source": [
    "df_feature = pd.read_pickle('data/feature.pkl')"
   ]
  },
  {
   "cell_type": "code",
   "execution_count": 4,
   "metadata": {
    "ExecuteTime": {
     "end_time": "2020-12-08T01:53:07.225316Z",
     "start_time": "2020-12-08T01:53:05.298408Z"
    }
   },
   "outputs": [],
   "source": [
    "for f in df_feature.select_dtypes('object').columns:\n",
    "    if f not in ['cust_no']:\n",
    "        lbl = LabelEncoder()\n",
    "        df_feature[f] = lbl.fit_transform(df_feature[f].astype(str))"
   ]
  },
  {
   "cell_type": "code",
   "execution_count": 5,
   "metadata": {
    "ExecuteTime": {
     "end_time": "2020-12-08T01:53:07.869008Z",
     "start_time": "2020-12-08T01:53:07.228191Z"
    }
   },
   "outputs": [
    {
     "data": {
      "text/plain": [
       "((145296, 346), (76722, 346))"
      ]
     },
     "execution_count": 5,
     "metadata": {},
     "output_type": "execute_result"
    }
   ],
   "source": [
    "df_train = df_feature[df_feature.label.notna()].copy().reset_index(drop=True)\n",
    "df_test = df_feature[df_feature.label.isna()].copy().reset_index(drop=True)\n",
    "\n",
    "df_train.shape, df_test.shape"
   ]
  },
  {
   "cell_type": "code",
   "execution_count": null,
   "metadata": {
    "ExecuteTime": {
     "start_time": "2020-12-08T01:53:00.594Z"
    },
    "scrolled": true
   },
   "outputs": [
    {
     "name": "stdout",
     "output_type": "stream",
     "text": [
      "\n",
      "Fold_1 Training ================================\n",
      "\n",
      "[LightGBM] [Warning] feature_fraction is set=0.6, colsample_bytree=1.0 will be ignored. Current value: feature_fraction=0.6\n",
      "Training until validation scores don't improve for 50 rounds\n",
      "[500]\ttrain's multi_logloss: 0.613997\tvalid's multi_logloss: 0.626054\n",
      "[1000]\ttrain's multi_logloss: 0.591286\tvalid's multi_logloss: 0.616881\n",
      "[1500]\ttrain's multi_logloss: 0.574413\tvalid's multi_logloss: 0.613086\n",
      "[2000]\ttrain's multi_logloss: 0.560111\tvalid's multi_logloss: 0.61126\n",
      "[2500]\ttrain's multi_logloss: 0.547135\tvalid's multi_logloss: 0.610222\n",
      "[3000]\ttrain's multi_logloss: 0.534981\tvalid's multi_logloss: 0.609474\n"
     ]
    }
   ],
   "source": [
    "ycol = 'label'\n",
    "feature_names = list(\n",
    "    filter(lambda x: x not in [ycol, 'cust_no', 'fq', 'fake'], df_train.columns))\n",
    "\n",
    "model = lgb.LGBMClassifier(boosting_type='gbdt',\n",
    "                           num_leaves=32,\n",
    "                           max_depth=6,\n",
    "                           learning_rate=0.01,\n",
    "                           n_estimators=10000,\n",
    "                           subsample=0.8,\n",
    "                           feature_fraction=0.6,\n",
    "                           reg_alpha=10,\n",
    "                           reg_lambda=12,\n",
    "                           random_state=seed,\n",
    "                           is_unbalance=True)\n",
    "\n",
    "prob_oof = np.zeros((df_train.shape[0], 3))\n",
    "test_pred_prob = np.zeros((df_test.shape[0], 3))\n",
    "\n",
    "df_importance_list = []\n",
    "\n",
    "kfold = StratifiedKFold(n_splits=5, shuffle=True, random_state=seed)\n",
    "for fold_id, (trn_idx, val_idx) in enumerate(kfold.split(df_train[feature_names], df_train[ycol])):\n",
    "    X_train = df_train.iloc[trn_idx][feature_names]\n",
    "    Y_train = df_train.iloc[trn_idx][ycol]\n",
    "\n",
    "    X_val = df_train.iloc[val_idx][feature_names]\n",
    "    Y_val = df_train.iloc[val_idx][ycol]\n",
    "\n",
    "    print('\\nFold_{} Training ================================\\n'.format(\n",
    "        fold_id + 1))\n",
    "\n",
    "    lgb_model = model.fit(X_train,\n",
    "                          Y_train,\n",
    "                          eval_names=['train', 'valid'],\n",
    "                          eval_set=[(X_train, Y_train), (X_val, Y_val)],\n",
    "                          verbose=500,\n",
    "                          early_stopping_rounds=50)\n",
    "\n",
    "    pred_val = lgb_model.predict_proba(\n",
    "        X_val, num_iteration=lgb_model.best_iteration_)\n",
    "    prob_oof[val_idx] = pred_val\n",
    "\n",
    "    pred_test = lgb_model.predict_proba(\n",
    "        df_test[feature_names], num_iteration=lgb_model.best_iteration_)\n",
    "    test_pred_prob += pred_test / kfold.n_splits\n",
    "\n",
    "    df_importance = pd.DataFrame({\n",
    "        'column': feature_names,\n",
    "        'importance': lgb_model.feature_importances_,\n",
    "    })\n",
    "    df_importance_list.append(df_importance)\n",
    "\n",
    "    del lgb_model, pred_val, pred_test, X_train, Y_train, X_val, Y_val"
   ]
  },
  {
   "cell_type": "code",
   "execution_count": null,
   "metadata": {
    "ExecuteTime": {
     "start_time": "2020-12-08T01:53:00.603Z"
    }
   },
   "outputs": [],
   "source": [
    "df_importance = pd.concat(df_importance_list)\n",
    "df_importance = df_importance.groupby([\n",
    "    'column'\n",
    "])['importance'].agg('mean').sort_values(ascending=False).reset_index()\n",
    "df_importance"
   ]
  },
  {
   "cell_type": "code",
   "execution_count": null,
   "metadata": {
    "ExecuteTime": {
     "start_time": "2020-12-08T01:53:00.606Z"
    },
    "code_folding": []
   },
   "outputs": [],
   "source": [
    "class_num = 3\n",
    "\n",
    "\n",
    "def search_weight(valid_y, raw_prob, init_weight=[1.0]*class_num, step=0.001):\n",
    "    weight = init_weight.copy()\n",
    "    f_best = cohen_kappa_score(valid_y, raw_prob.argmax(\n",
    "        axis=1))\n",
    "    flag_score = 0\n",
    "    round_num = 1\n",
    "    while(flag_score != f_best):\n",
    "        print('round: ', round_num)\n",
    "        round_num += 1\n",
    "        flag_score = f_best\n",
    "        for c in range(class_num):\n",
    "            for n_w in range(0, 2000, 10):\n",
    "                num = n_w * step\n",
    "                new_weight = weight.copy()\n",
    "                new_weight[c] = num\n",
    "\n",
    "                prob_df = raw_prob.copy()\n",
    "                prob_df = prob_df * np.array(new_weight)\n",
    "\n",
    "                f = cohen_kappa_score(valid_y, prob_df.argmax(\n",
    "                    axis=1))\n",
    "                if f > f_best:\n",
    "                    weight = new_weight.copy()\n",
    "                    f_best = f\n",
    "    return weight\n",
    "\n",
    "\n",
    "weight = search_weight(df_train['label'], prob_oof)\n",
    "\n",
    "weight"
   ]
  },
  {
   "cell_type": "code",
   "execution_count": null,
   "metadata": {
    "ExecuteTime": {
     "start_time": "2020-12-08T01:53:00.608Z"
    }
   },
   "outputs": [],
   "source": [
    "prediction = df_test[['cust_no']]\n",
    "test_pred_prob_weight = test_pred_prob * np.array(weight)\n",
    "prediction['label'] = np.argmax(test_pred_prob_weight, axis=1)\n",
    "prediction['label'] = prediction['label'] - 1"
   ]
  },
  {
   "cell_type": "code",
   "execution_count": null,
   "metadata": {
    "ExecuteTime": {
     "start_time": "2020-12-08T01:53:00.610Z"
    }
   },
   "outputs": [],
   "source": [
    "prediction.head()"
   ]
  },
  {
   "cell_type": "code",
   "execution_count": null,
   "metadata": {
    "ExecuteTime": {
     "start_time": "2020-12-08T01:53:00.612Z"
    }
   },
   "outputs": [],
   "source": [
    "os.makedirs('prob', exist_ok=True)\n",
    "np.save('prob/lgb1.npy', test_pred_prob_weight)"
   ]
  },
  {
   "cell_type": "code",
   "execution_count": null,
   "metadata": {
    "ExecuteTime": {
     "start_time": "2020-12-08T01:53:00.615Z"
    }
   },
   "outputs": [],
   "source": [
    "df_oof = df_train[['cust_no', 'label']]\n",
    "prob_oof_weight = prob_oof * np.array(weight)\n",
    "df_oof['pred'] = np.argmax(prob_oof_weight, axis=1)\n",
    "df_oof['pred'] = df_oof['pred'] - 1\n",
    "df_oof['label'] = df_oof['label'] - 1\n",
    "\n",
    "df_oof.head()"
   ]
  },
  {
   "cell_type": "code",
   "execution_count": null,
   "metadata": {
    "ExecuteTime": {
     "start_time": "2020-12-08T01:53:00.617Z"
    }
   },
   "outputs": [],
   "source": [
    "kappa = cohen_kappa_score(df_oof['label'], df_oof['pred'])\n",
    "kappa"
   ]
  },
  {
   "cell_type": "code",
   "execution_count": null,
   "metadata": {
    "ExecuteTime": {
     "start_time": "2020-12-08T01:53:00.619Z"
    }
   },
   "outputs": [],
   "source": [
    "os.makedirs('sub', exist_ok=True)\n",
    "prediction.to_csv('sub/xm_{}.csv'.format(kappa), index=False)"
   ]
  },
  {
   "cell_type": "code",
   "execution_count": null,
   "metadata": {
    "ExecuteTime": {
     "start_time": "2020-12-08T01:53:00.621Z"
    }
   },
   "outputs": [],
   "source": [
    "df_oof['pred'].value_counts()"
   ]
  },
  {
   "cell_type": "code",
   "execution_count": null,
   "metadata": {
    "ExecuteTime": {
     "start_time": "2020-12-08T01:53:00.623Z"
    }
   },
   "outputs": [],
   "source": [
    "df_oof['label'].value_counts()"
   ]
  },
  {
   "cell_type": "code",
   "execution_count": null,
   "metadata": {
    "ExecuteTime": {
     "start_time": "2020-12-08T01:53:00.625Z"
    }
   },
   "outputs": [],
   "source": [
    "prediction['label'].value_counts()"
   ]
  }
 ],
 "metadata": {
  "kernelspec": {
   "display_name": "Python 3",
   "language": "python",
   "name": "python3"
  },
  "language_info": {
   "codemirror_mode": {
    "name": "ipython",
    "version": 3
   },
   "file_extension": ".py",
   "mimetype": "text/x-python",
   "name": "python",
   "nbconvert_exporter": "python",
   "pygments_lexer": "ipython3",
   "version": "3.7.0"
  }
 },
 "nbformat": 4,
 "nbformat_minor": 4
}
